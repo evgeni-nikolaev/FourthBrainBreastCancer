{
 "cells": [
  {
   "cell_type": "code",
   "execution_count": 1,
   "metadata": {},
   "outputs": [],
   "source": [
    "CAM_BASE_DIR = '/media/nico/data/fourthbrain/project/'\n",
    "CAM16_DIR = CAM_BASE_DIR + 'CAMELYON16/'\n",
    "GENERATED_DATA = CAM_BASE_DIR + 'output_CAMELYON16/'"
   ]
  },
  {
   "cell_type": "code",
   "execution_count": 2,
   "metadata": {},
   "outputs": [],
   "source": [
    "MODEL_FINAL = GENERATED_DATA + 'model_final.hdf5'\n",
    "\n",
    "# Destination to store the heatmaps which we will create in this notebook\n",
    "HEATMAPS_CAM16_TESTSET = GENERATED_DATA +'test_set_predictions/'"
   ]
  },
  {
   "cell_type": "code",
   "execution_count": 15,
   "metadata": {},
   "outputs": [],
   "source": [
    "import matplotlib.pyplot as plt \n",
    "from preprocessing.datamodel import SlideManager\n",
    "from preprocessing.processing import split_negative_slide, split_positive_slide, rgb2gray, create_tumor_mask\n",
    "from generate_tiles import get_otsu_threshold"
   ]
  },
  {
   "cell_type": "markdown",
   "metadata": {},
   "source": [
    "Reading CAMELYON16 Test Dataset\n",
    "The main purpose of creating a training dataset as a single HDF5 file was to reduce the time reading the data. This was crucial for training, because we needed to read the same data over and over again while training. Concerning the test dataset, this is not as crucial, because we only need to read every slide once, predicting each tile once, after the training is finished.\n",
    "\n",
    "So to read the CAMELYON16 test dataset, we can just use the SlideManager class, SlideManager.test_slides attribute and the split_annotated_slides and split_negative_slides methods."
   ]
  },
  {
   "cell_type": "markdown",
   "metadata": {},
   "source": [
    "Notes:\n",
    "\n",
    "We must use the same tile_size we trained our CNN on\n",
    "We must use the same poi we used to seperate tisse from background\n",
    "The higher the overlap, the higher resolution our heatmap will have.\n",
    "\n",
    "Higher overlap dramatically increases prediciton time.\n",
    "At least half the tile_zizse is suggested to reduce chance dividing smaller tumorous regions and there missclassifying tiles."
   ]
  },
  {
   "cell_type": "code",
   "execution_count": 4,
   "metadata": {},
   "outputs": [],
   "source": [
    "mgr = SlideManager(cam16_dir=CAM16_DIR)\n",
    "\n",
    "### Depending on option chosen in \"create-custom-dataset\" (option A = level 0) (optopn B = level3)\n",
    "level = 1 \n",
    "\n",
    "### 256 for either option as we trained our CNN on 256 tiles\n",
    "tile_size = 256\n",
    "\n",
    "### 20% of a tile must contain tissue (in contrast to slide background)\n",
    "poi = 0.20\n",
    "\n",
    "### more overlap, higher resolution but increased processing time\n",
    "overlap = tile_size // 2"
   ]
  },
  {
   "cell_type": "markdown",
   "metadata": {},
   "source": [
    "When we pass a test slide as parameter to the method create_tumor_mask, a mask will always be returned. If there exists no annotation xml file (because it is a slide without metastatic regions), the mask will just contain nans. This method can be used to manually compare your generated heatmaps with the true tumor area."
   ]
  },
  {
   "cell_type": "code",
   "execution_count": 43,
   "metadata": {},
   "outputs": [
    {
     "name": "stdout",
     "output_type": "stream",
     "text": [
      "Slide('test_001', '/media/nico/data/fourthbrain/project/CAMELYON16/test/images/test_001.tif', None, '/media/nico/data/fourthbrain/project/CAMELYON16/test/lesion_annotations/test_001.xml')\n",
      "(86016, 89600)\n",
      "(43008, 44800)\n"
     ]
    }
   ],
   "source": [
    "slide = mgr.get_slide('test_001')\n",
    "\n",
    "### some general slide information\n",
    "print(slide)\n",
    "print(slide.dimensions)\n",
    "print(slide.level_dimensions[level])"
   ]
  },
  {
   "cell_type": "code",
   "execution_count": 44,
   "metadata": {},
   "outputs": [
    {
     "name": "stdout",
     "output_type": "stream",
     "text": [
      "(44800, 43008)\n"
     ]
    },
    {
     "data": {
      "text/plain": [
       "<matplotlib.image.AxesImage at 0x7f95c45334d0>"
      ]
     },
     "execution_count": 44,
     "metadata": {},
     "output_type": "execute_result"
    },
    {
     "data": {
      "image/png": "[encoded data removed]",
      "text/plain": [
       "<Figure size 432x288 with 1 Axes>"
      ]
     },
     "metadata": {
      "needs_background": "light"
     },
     "output_type": "display_data"
    }
   ],
   "source": [
    "### create tumor mask and show it if exists - in this case test001 has annotations and contains tumors\n",
    "mask = create_tumor_mask(slide, level=1)\n",
    "print(mask.shape)\n",
    "plt.imshow(mask, cmap='gray')"
   ]
  },
  {
   "cell_type": "code",
   "execution_count": 45,
   "metadata": {},
   "outputs": [],
   "source": [
    "# How to use it when testing a model"
   ]
  },
  {
   "cell_type": "code",
   "execution_count": 64,
   "metadata": {},
   "outputs": [],
   "source": [
    "from read_tiles import load_color_normalization_values\n",
    "import numpy as np"
   ]
  },
  {
   "cell_type": "code",
   "execution_count": 65,
   "metadata": {},
   "outputs": [],
   "source": [
    "threshold = get_otsu_threshold(slide, level)"
   ]
  },
  {
   "cell_type": "code",
   "execution_count": 66,
   "metadata": {},
   "outputs": [],
   "source": [
    "# color normalization mean and std for each dimension (r,g,b)"
   ]
  },
  {
   "cell_type": "code",
   "execution_count": 58,
   "metadata": {},
   "outputs": [],
   "source": [
    "mean, std = load_color_normalization_values(\"CAMELYON16_color_normalization.json\")"
   ]
  },
  {
   "cell_type": "code",
   "execution_count": 78,
   "metadata": {},
   "outputs": [],
   "source": [
    "iter_tiles = split_negative_slide(slide, \n",
    "                             level=level, \n",
    "                             otsu_threshold=threshold,\n",
    "                             tile_size=tile_size, \n",
    "                             overlap=0,\n",
    "                             poi_threshold=poi)"
   ]
  },
  {
   "cell_type": "code",
   "execution_count": 79,
   "metadata": {},
   "outputs": [],
   "source": [
    "tiles, bounds = list(), list()\n",
    "for tile, box in iter_tiles:\n",
    "    t = np.empty([tile_size, tile_size, 3])\n",
    "    for i in [0, 1, 2]:\n",
    "        t[:, :, i] = (tile[:, :, i] - mean[i]) / std[i]\n",
    "        tiles.append(t)\n",
    "        bounds.append(box)"
   ]
  },
  {
   "cell_type": "code",
   "execution_count": 82,
   "metadata": {},
   "outputs": [
    {
     "data": {
      "text/plain": [
       "((22016, 512), (512, 512))"
      ]
     },
     "execution_count": 82,
     "metadata": {},
     "output_type": "execute_result"
    }
   ],
   "source": [
    "bounds[0]"
   ]
  },
  {
   "cell_type": "code",
   "execution_count": 81,
   "metadata": {},
   "outputs": [
    {
     "data": {
      "text/plain": [
       "(256, 256, 3)"
      ]
     },
     "execution_count": 81,
     "metadata": {},
     "output_type": "execute_result"
    }
   ],
   "source": [
    "tile.shape"
   ]
  },
  {
   "cell_type": "code",
   "execution_count": null,
   "metadata": {},
   "outputs": [],
   "source": [
    "# there is something wrong with the tile size (256) and the bound size (512)"
   ]
  },
  {
   "cell_type": "code",
   "execution_count": null,
   "metadata": {},
   "outputs": [],
   "source": [
    "# After classifying each time with model predict, we need to build our own mask picture to be able to compare\n",
    "# our model with the annotations"
   ]
  }
 ],
 "metadata": {
  "kernelspec": {
   "display_name": "Python 3",
   "language": "python",
   "name": "python3"
  },
  "language_info": {
   "codemirror_mode": {
    "name": "ipython",
    "version": 3
   },
   "file_extension": ".py",
   "mimetype": "text/x-python",
   "name": "python",
   "nbconvert_exporter": "python",
   "pygments_lexer": "ipython3",
   "version": "3.7.9"
  }
 },
 "nbformat": 4,
 "nbformat_minor": 4
}
