{
  "nbformat": 4,
  "nbformat_minor": 0,
  "metadata": {
    "kernelspec": {
      "display_name": "Python 3",
      "language": "python",
      "name": "python3"
    },
    "language_info": {
      "codemirror_mode": {
        "name": "ipython",
        "version": 3
      },
      "file_extension": ".py",
      "mimetype": "text/x-python",
      "name": "python",
      "nbconvert_exporter": "python",
      "pygments_lexer": "ipython3",
      "version": "3.7.9"
    },
    "colab": {
      "name": "V2_FEATURE EXTRACTOR train_model_inception_v3.ipynb",
      "private_outputs": true,
      "provenance": [],
      "collapsed_sections": [],
      "include_colab_link": true
    },
    "accelerator": "GPU"
  },
  "cells": [
    {
      "cell_type": "markdown",
      "metadata": {
        "id": "view-in-github",
        "colab_type": "text"
      },
      "source": [
        "<a href=\"https://colab.research.google.com/github/sfmajors373/FourthBrainBreastCancer/blob/seg_UNet_update/V2_FEATURE_EXTRACTOR_train_model_inception_v3.ipynb\" target=\"_parent\"><img src=\"https://colab.research.google.com/assets/colab-badge.svg\" alt=\"Open In Colab\"/></a>"
      ]
    },
    {
      "cell_type": "markdown",
      "metadata": {
        "id": "-FWr5bLOTBwu"
      },
      "source": [
        "This version use a different data loading method to load tiles "
      ]
    },
    {
      "cell_type": "code",
      "metadata": {
        "id": "Uboai0toVlIp"
      },
      "source": [
        "from google.colab import drive\n",
        "drive.mount('/content/drive')"
      ],
      "execution_count": null,
      "outputs": []
    },
    {
      "cell_type": "code",
      "metadata": {
        "id": "5aApH7bglrSi"
      },
      "source": [
        "# TensorFlow and tf.keras\n",
        "import tensorflow as tf\n",
        "from tensorflow import keras\n",
        "import os\n",
        "# Helper libraries\n",
        "import numpy as np\n",
        "import matplotlib.pyplot as plt\n",
        "import random\n",
        "import h5py\n",
        "import math\n",
        "import pickle\n",
        "from datetime import datetime\n",
        "from numba import cuda \n",
        "\n",
        "%matplotlib inline"
      ],
      "execution_count": null,
      "outputs": []
    },
    {
      "cell_type": "code",
      "metadata": {
        "id": "tNlbJcyPlrSq"
      },
      "source": [
        "# Code snippet nvidia gpu\n",
        "from tensorflow.compat.v1 import ConfigProto\n",
        "from tensorflow.compat.v1 import InteractiveSession\n",
        "\n",
        "config = ConfigProto()\n",
        "config.gpu_options.per_process_gpu_memory_fraction = 0.8\n",
        "config.gpu_options.allow_growth = True\n",
        "session = InteractiveSession(config=config)"
      ],
      "execution_count": null,
      "outputs": []
    },
    {
      "cell_type": "code",
      "metadata": {
        "id": "ouVSrTsmlrSq"
      },
      "source": [
        "HDF5_FOLDER = '/content/drive/MyDrive/Colab Notebooks/CancerMap/train'\n",
        "green_layer_only = False\n",
        "color_normalization_json=\"CAMELYON16_color_normalization.json\""
      ],
      "execution_count": null,
      "outputs": []
    },
    {
      "cell_type": "code",
      "metadata": {
        "id": "QVJXT1Ew6-qn"
      },
      "source": [
        "# Mannual Data Loading Methods\n",
        "import h5py\n",
        "import os\n",
        "\n",
        "cancer_image = []\n",
        "cancer_label = []\n",
        "cancer_mask = []\n",
        "\n",
        "cancer_image_file = []\n",
        "cancer_mask_file = []\n",
        "\n",
        "\n",
        "file = os.listdir(HDF5_FOLDER)\n",
        "for f_index in range(0, len(file)):\n",
        "  if file[f_index].find('.hdf5') != -1:\n",
        "    filepath = HDF5_FOLDER+'/'+file[f_index]\n",
        "\n",
        "    f = h5py.File(filepath, 'r')\n",
        "    f_name = list(f.keys())\n",
        "    dset = np.array(f[f_name[0]])\n",
        "    dset=dset[:,0:256, 0:256, :]\n",
        "    print(dset.shape)\n",
        "    if file[f_index].find('mask') != -1:\n",
        "      if not len(cancer_mask):\n",
        "        cancer_mask = dset\n",
        "      else:\n",
        "        cancer_mask = np.concatenate((cancer_mask, dset))\n",
        "      cancer_mask_file.append(f_name)\n",
        "    elif file[f_index].find('normal') != -1:\n",
        "      # cancer_label.append(0)\n",
        "      # cancer_image.append(dset)\n",
        "      labels = [0]*len(dset)\n",
        "      cancer_image_file.append(f_name)\n",
        "\n",
        "      if f_index == 0:\n",
        "        cancer_image = dset\n",
        "        cancer_label = labels\n",
        "      else:\n",
        "        cancer_image= np.concatenate((cancer_image, dset), axis = 0)\n",
        "        cancer_label = np.concatenate((cancer_label, labels), axis = 0)\n",
        "    else:\n",
        "      labels = [1]*len(dset)\n",
        "      cancer_image_file.append(f_name)\n",
        "      if f_index == 0:\n",
        "        cancer_image = dset\n",
        "        cancer_label = labels\n",
        "      else:\n",
        "        cancer_image= np.concatenate((cancer_image, dset), axis = 0)\n",
        "        cancer_label = np.concatenate((cancer_label, labels), axis = 0)\n",
        "\n",
        "# print(cancer_image)\n",
        "# print(cancer_label)\n",
        "# print(cancer_mask)"
      ],
      "execution_count": null,
      "outputs": []
    },
    {
      "cell_type": "code",
      "metadata": {
        "id": "s0jc5oVgkVDR"
      },
      "source": [
        "print(len(cancer_image))\n",
        "print(len(cancer_label))\n",
        "print(len(cancer_mask))"
      ],
      "execution_count": null,
      "outputs": []
    },
    {
      "cell_type": "code",
      "metadata": {
        "id": "_x16L_epmPav"
      },
      "source": [
        "plt.imshow(cancer_image[1])"
      ],
      "execution_count": null,
      "outputs": []
    },
    {
      "cell_type": "code",
      "metadata": {
        "id": "VcVpV1iJmSj1"
      },
      "source": [
        "plt.imshow(np.squeeze(cancer_mask[1]))"
      ],
      "execution_count": null,
      "outputs": []
    },
    {
      "cell_type": "code",
      "metadata": {
        "id": "9vjpuREJkg0a"
      },
      "source": [
        "X_tumor_loc = np.where([cancer_label==1])\n",
        "len(X_tumor_loc[1])"
      ],
      "execution_count": null,
      "outputs": []
    },
    {
      "cell_type": "code",
      "metadata": {
        "id": "QHaaHt7YSRjD"
      },
      "source": [
        "from sklearn.model_selection import train_test_split\n",
        "X_train, X_test, y_train, y_test = train_test_split(cancer_image, cancer_label, test_size = 0.2, random_state = 42)"
      ],
      "execution_count": null,
      "outputs": []
    },
    {
      "cell_type": "code",
      "metadata": {
        "id": "HiSgoUJhdZAD"
      },
      "source": [
        "print(len(X_train))\n",
        "print(len(X_test))"
      ],
      "execution_count": null,
      "outputs": []
    },
    {
      "cell_type": "code",
      "metadata": {
        "id": "0cqPXHyglrSs"
      },
      "source": [
        "# Plot model loss and accuracy\n",
        "  \n",
        "def plot_history(history):\n",
        "  # This function will plot the model fit process\n",
        "  print(history.history.keys())\n",
        "  # summarize history for accuracy\n",
        "  plt.plot(history.history['accuracy'])\n",
        "  plt.plot(history.history['val_accuracy'])\n",
        "  plt.title('model accuracy')\n",
        "  plt.ylabel('acc')\n",
        "  plt.xlabel('epoch')\n",
        "  plt.legend(['train', 'test'], loc='upper left')\n",
        "  plt.show()\n",
        "  # summarize history for loss\n",
        "  plt.plot(history.history['loss'])\n",
        "  plt.plot(history.history['val_loss'])\n",
        "  plt.title('model loss')\n",
        "  plt.ylabel('loss')\n",
        "  plt.xlabel('epoch')\n",
        "  plt.legend(['train', 'test'], loc='upper left')\n",
        "  plt.show()\n"
      ],
      "execution_count": null,
      "outputs": []
    },
    {
      "cell_type": "code",
      "metadata": {
        "id": "_l57gRiHlrSs"
      },
      "source": [
        "# FEATURE EXTRACTOR MODEL"
      ],
      "execution_count": null,
      "outputs": []
    },
    {
      "cell_type": "code",
      "metadata": {
        "id": "Rd6RL8uJlrSs"
      },
      "source": [
        "model = keras.applications.InceptionV3(input_shape=(256,256,3),\n",
        "                                        include_top=True,\n",
        "                                        classes = 1,\n",
        "                                        classifier_activation=\"sigmoid\",\n",
        "                                        weights=None)\n"
      ],
      "execution_count": null,
      "outputs": []
    },
    {
      "cell_type": "code",
      "metadata": {
        "scrolled": false,
        "id": "4wMHkhb_lrSs"
      },
      "source": [
        "model.summary()"
      ],
      "execution_count": null,
      "outputs": []
    },
    {
      "cell_type": "code",
      "metadata": {
        "id": "ndWN8w7mlrSt"
      },
      "source": [
        "model.compile(optimizer=tf.keras.optimizers.Adam(learning_rate=0.0001), \n",
        "    loss='binary_crossentropy',\n",
        "    metrics=['accuracy'])"
      ],
      "execution_count": null,
      "outputs": []
    },
    {
      "cell_type": "code",
      "metadata": {
        "id": "FVo9y9VPNiGy"
      },
      "source": [
        "history = model.fit(X_train, y_train, validation_split=0.2, batch_size=10, epochs=10)"
      ],
      "execution_count": null,
      "outputs": []
    },
    {
      "cell_type": "code",
      "metadata": {
        "id": "tZcxURoXRm3Q"
      },
      "source": [
        "plot_history(history)"
      ],
      "execution_count": null,
      "outputs": []
    },
    {
      "cell_type": "markdown",
      "metadata": {
        "id": "11pqQKY7ajyQ"
      },
      "source": [
        "## Display layer 0 of activation of a normal image"
      ]
    },
    {
      "cell_type": "code",
      "metadata": {
        "id": "LNnU1Daxm1bz"
      },
      "source": [
        "X_train.shape"
      ],
      "execution_count": null,
      "outputs": []
    },
    {
      "cell_type": "code",
      "metadata": {
        "id": "P96-5sESOwmc"
      },
      "source": [
        "from keras.models import Model\n",
        "layer_outputs = [layer.output for layer in model.layers]\n",
        "activation_model = Model(inputs=model.input, outputs=layer_outputs)\n",
        "image_num = 11600 #normal\n",
        "activation = activation_model.predict(X_train[image_num].reshape(1,256,256,3))\n",
        "\n",
        "\n",
        "\n"
      ],
      "execution_count": null,
      "outputs": []
    },
    {
      "cell_type": "code",
      "metadata": {
        "id": "SpDSE_mkeEmH"
      },
      "source": [
        "y_train[image_num]"
      ],
      "execution_count": null,
      "outputs": []
    },
    {
      "cell_type": "code",
      "metadata": {
        "id": "0RBFnuPxa1cC"
      },
      "source": [
        "len(activation)"
      ],
      "execution_count": null,
      "outputs": []
    },
    {
      "cell_type": "code",
      "metadata": {
        "id": "YRzOZlwJdz4a"
      },
      "source": [
        "layer_act = 0"
      ],
      "execution_count": null,
      "outputs": []
    },
    {
      "cell_type": "code",
      "metadata": {
        "id": "G16V6bZFahMp"
      },
      "source": [
        "plt.imshow(activation[layer_act][0, :, :, 0])"
      ],
      "execution_count": null,
      "outputs": []
    },
    {
      "cell_type": "code",
      "metadata": {
        "id": "YCfxp0rQahwF"
      },
      "source": [
        "plt.imshow(activation[layer_act][0, :, :, 1])"
      ],
      "execution_count": null,
      "outputs": []
    },
    {
      "cell_type": "code",
      "metadata": {
        "id": "DDEoNjvcbSEA"
      },
      "source": [
        "plt.imshow(activation[layer_act][0, :, :, 2])"
      ],
      "execution_count": null,
      "outputs": []
    },
    {
      "cell_type": "markdown",
      "metadata": {
        "id": "QR3wE-rwfGqx"
      },
      "source": [
        "## Display layer 0 of activation of a tumor image"
      ]
    },
    {
      "cell_type": "code",
      "metadata": {
        "id": "EmlsoV6CfOEt"
      },
      "source": [
        "image_num = 1\n",
        "activation = activation_model.predict(X_train[image_num].reshape(1,256,256,3))"
      ],
      "execution_count": null,
      "outputs": []
    },
    {
      "cell_type": "code",
      "metadata": {
        "id": "AF5KEga_fUEF"
      },
      "source": [
        "y_train[image_num]"
      ],
      "execution_count": null,
      "outputs": []
    },
    {
      "cell_type": "code",
      "metadata": {
        "id": "cyCGctkbfUEG"
      },
      "source": [
        "len(activation)"
      ],
      "execution_count": null,
      "outputs": []
    },
    {
      "cell_type": "code",
      "metadata": {
        "id": "bbUXqc0ffUEH"
      },
      "source": [
        "layer_act = 0"
      ],
      "execution_count": null,
      "outputs": []
    },
    {
      "cell_type": "code",
      "metadata": {
        "id": "4-WN4eOMfUEH"
      },
      "source": [
        "plt.imshow(activation[layer_act][0, :, :, 0])"
      ],
      "execution_count": null,
      "outputs": []
    },
    {
      "cell_type": "code",
      "metadata": {
        "id": "ClCsjCiFfYyw"
      },
      "source": [
        "plt.imshow(activation[layer_act][0, :, :, 1])"
      ],
      "execution_count": null,
      "outputs": []
    },
    {
      "cell_type": "code",
      "metadata": {
        "id": "YTza4NMPfYyx"
      },
      "source": [
        "plt.imshow(activation[layer_act][0, :, :, 2])"
      ],
      "execution_count": null,
      "outputs": []
    },
    {
      "cell_type": "code",
      "metadata": {
        "id": "VkxT_hkFlrSu"
      },
      "source": [
        "model.save('/content/drive/MyDrive/Colab Notebooks/CancerMap/model_inceptionv3.hdf5')"
      ],
      "execution_count": null,
      "outputs": []
    },
    {
      "cell_type": "code",
      "metadata": {
        "id": "yjeqTReeR_XD"
      },
      "source": [
        "# Test Accuracy\n",
        "from sklearn.metrics import confusion_matrix, accuracy_score,f1_score,precision_score,recall_score\n",
        "prediction_values = np.argmax(model.predict(X_test), axis=-1)\n",
        "print(f'Accuracy = {accuracy_score(y_test, prediction_values)}')\n",
        "print(f'F1 = {f1_score(y_test, prediction_values,average = None)}')\n",
        "print(f'Precision = {precision_score(y_test, prediction_values,average=None)}')\n",
        "print(f'Recall = {recall_score(y_test, prediction_values,average = None)}')\n",
        "# Display the confusion matrix\n",
        "print('Confusion matrix =')\n",
        "print(confusion_matrix(y_test, prediction_values))"
      ],
      "execution_count": null,
      "outputs": []
    },
    {
      "cell_type": "code",
      "metadata": {
        "id": "XcNYGQ8_eW92"
      },
      "source": [
        "feature_network = Model(model.input, model.get_layer('avg_pool').output)\n",
        "feature_train = feature_network.predict(X_train)\n",
        "# feature_test = feature_network.predict(test_data_array)\n",
        "feature_train_y = y_train"
      ],
      "execution_count": null,
      "outputs": []
    },
    {
      "cell_type": "code",
      "metadata": {
        "id": "tuMv-QB148LI"
      },
      "source": [
        "np.savetxt(\"/content/drive/MyDrive/Colab Notebooks/CancerMap/feature_extracted.txt\", feature_train)\n",
        "np.savetxt(\"/content/drive/MyDrive/Colab Notebooks/CancerMap/feature_extracted_y.txt\", feature_train_y)"
      ],
      "execution_count": null,
      "outputs": []
    },
    {
      "cell_type": "markdown",
      "metadata": {
        "id": "ioGGdKzTnsdr"
      },
      "source": [
        "# Select predicted tumor images"
      ]
    },
    {
      "cell_type": "code",
      "metadata": {
        "id": "_PzALsS49UEB"
      },
      "source": [
        "cancer_label"
      ],
      "execution_count": null,
      "outputs": []
    },
    {
      "cell_type": "code",
      "metadata": {
        "id": "v2e_Mo1Gn0Fg"
      },
      "source": [
        "X_tumor_loc = np.where([cancer_label==1])"
      ],
      "execution_count": null,
      "outputs": []
    },
    {
      "cell_type": "code",
      "metadata": {
        "id": "3wjcdtuU9dTl"
      },
      "source": [
        "X_tumor=cancer_image[X_tumor_loc[1],]"
      ],
      "execution_count": null,
      "outputs": []
    },
    {
      "cell_type": "code",
      "metadata": {
        "id": "CecudV0n-6N-"
      },
      "source": [
        "X_tumor.shape"
      ],
      "execution_count": null,
      "outputs": []
    },
    {
      "cell_type": "code",
      "metadata": {
        "id": "_JX8mXp1iDrm"
      },
      "source": [
        "model = keras.models.load_model('/content/drive/MyDrive/Colab Notebooks/CancerMap/model_inceptionv3.hdf5')"
      ],
      "execution_count": null,
      "outputs": []
    },
    {
      "cell_type": "code",
      "metadata": {
        "id": "VzT3qUzTjEOB"
      },
      "source": [
        "from keras.models import Model\n",
        "layer_outputs = [layer.output for layer in model.layers]\n",
        "activation_model = Model(inputs=model.input, outputs=layer_outputs)"
      ],
      "execution_count": null,
      "outputs": []
    },
    {
      "cell_type": "code",
      "metadata": {
        "id": "EHaVKlGeQ2og"
      },
      "source": [
        "tumor = []\n",
        "imgpath = '/content/drive/MyDrive/Colab Notebooks/CancerMap/tumor_feature/'\n",
        "for x in range(0,10):\n",
        "  activation = activation_model.predict(X_tumor[x].reshape(1,256,256,3))\n",
        "  tumor.append(activation[0])\n",
        "  imgname = list(cancer_mask_file[x])\n",
        "  imgname = str(imgname[0])\n",
        "  for i in range(0,3):\n",
        "    imgsavepath = imgpath+imgname+'_'+str(i)+'.jpg'\n",
        "    plt.imsave(imgsavepath, activation[0][0,:,:,i])"
      ],
      "execution_count": null,
      "outputs": []
    },
    {
      "cell_type": "code",
      "metadata": {
        "id": "lEQwI4jjyc9F"
      },
      "source": [
        "tumor = np.array(tumor)"
      ],
      "execution_count": null,
      "outputs": []
    },
    {
      "cell_type": "code",
      "metadata": {
        "id": "yY79-T-502Fq"
      },
      "source": [
        "tumor.shape"
      ],
      "execution_count": null,
      "outputs": []
    },
    {
      "cell_type": "code",
      "metadata": {
        "id": "CXnxrRpQ2bAY"
      },
      "source": [
        "plt.imshow(np.squeeze(tumor[0][0,:,:,0]))"
      ],
      "execution_count": null,
      "outputs": []
    },
    {
      "cell_type": "code",
      "metadata": {
        "id": "p690ZcZ2yolQ"
      },
      "source": [
        "tumor= np.squeeze(tumor, axis=(1,))\n",
        "tumor.shape"
      ],
      "execution_count": null,
      "outputs": []
    },
    {
      "cell_type": "code",
      "metadata": {
        "id": "HWgYqRq_2liI"
      },
      "source": [
        "plt.imshow(np.squeeze(tumor[1,:,:,0]))"
      ],
      "execution_count": null,
      "outputs": []
    },
    {
      "cell_type": "code",
      "metadata": {
        "id": "DzMBFD5fv3YM"
      },
      "source": [
        "plt.imshow(activation[0][0, :, :, 1])"
      ],
      "execution_count": null,
      "outputs": []
    },
    {
      "cell_type": "code",
      "metadata": {
        "id": "Spjn99hmc3_7"
      },
      "source": [
        "plt.imshow(np.squeeze(cancer_image[9]))"
      ],
      "execution_count": null,
      "outputs": []
    },
    {
      "cell_type": "code",
      "metadata": {
        "id": "E-S2WM_EC6TP"
      },
      "source": [
        "plt.imshow(tumor[9][0][0, :, :, 0])"
      ],
      "execution_count": null,
      "outputs": []
    },
    {
      "cell_type": "code",
      "metadata": {
        "id": "mFImjorE6sbg"
      },
      "source": [
        "plt.imshow(np.squeeze(cancer_mask[9]))"
      ],
      "execution_count": null,
      "outputs": []
    },
    {
      "cell_type": "code",
      "metadata": {
        "id": "G2k_s785ySQs"
      },
      "source": [
        ""
      ],
      "execution_count": null,
      "outputs": []
    },
    {
      "cell_type": "markdown",
      "metadata": {
        "id": "kkyyzqTnx0YX"
      },
      "source": [
        "# UNet"
      ]
    },
    {
      "cell_type": "code",
      "metadata": {
        "id": "2uekD5aRx3jX"
      },
      "source": [
        "from tensorflow.keras.layers import Input, Dense, Flatten, Conv2D, MaxPooling2D, Dropout, BatchNormalization, UpSampling2D\n",
        "from keras.layers.merge import concatenate"
      ],
      "execution_count": null,
      "outputs": []
    },
    {
      "cell_type": "code",
      "metadata": {
        "id": "glsfsQ-Kx4Gu"
      },
      "source": [
        "dim_tiles = 256\n",
        "depth = 3"
      ],
      "execution_count": null,
      "outputs": []
    },
    {
      "cell_type": "code",
      "metadata": {
        "id": "LGrYueS8mzSK"
      },
      "source": [
        "\n",
        "def unet(layer_in = Input(shape=(dim_tiles, dim_tiles, depth))):\n",
        "    inputs = layer_in\n",
        "    \n",
        "    conv1 = Conv2D(64, 3, activation = 'relu',padding = 'same', kernel_initializer = 'he_normal',dilation_rate=2)(inputs) #dilation_rate=2 etc.\n",
        "    conv1 = Conv2D(64, 3, activation = 'relu',padding = 'same', kernel_initializer = 'he_normal',dilation_rate=2)(conv1) #dilation_rate=2 etc.\n",
        "    # conv1 = BatchNormalization()(conv1)\n",
        "    pool1 = MaxPooling2D(pool_size=(2, 2))(conv1)\n",
        "\n",
        "    conv2 = Conv2D(128, 3, activation = 'relu', dilation_rate=2,padding = 'same', kernel_initializer = 'he_normal')(pool1)\n",
        "    # conv2 = BatchNormalization()(conv2)\n",
        "    conv2 = Conv2D(128, 3, activation = 'relu', dilation_rate=2, padding = 'same', kernel_initializer = 'he_normal')(conv2)\n",
        "    # conv2 = BatchNormalization()(conv2)\n",
        "    pool2 = MaxPooling2D(pool_size=(2, 2))(conv2)\n",
        "\n",
        "    conv3 = Conv2D(256, 3, activation = 'relu', padding = 'same', kernel_initializer = 'he_normal')(pool2)\n",
        "    # conv3 = BatchNormalization()(conv3)\n",
        "    conv3 = Conv2D(256, 3, activation = 'relu', padding = 'same', kernel_initializer = 'he_normal')(conv3)\n",
        "    # conv3 = BatchNormalization()(conv3)\n",
        "    pool3 = MaxPooling2D(pool_size=(2, 2))(conv3)\n",
        "\n",
        "    conv4 = Conv2D(512, 3, activation = 'relu', padding = 'same', kernel_initializer = 'he_normal')(pool3)\n",
        "    # conv4 = BatchNormalization()(conv4)\n",
        "    conv4 = Conv2D(512, 3, activation = 'relu', padding = 'same', kernel_initializer = 'he_normal')(conv4)\n",
        "    # conv4 = BatchNormalization()(conv4)\n",
        "    drop4 = Dropout(0.5)(conv4)#training=True will enable dropout for test data\n",
        "    pool4 = MaxPooling2D(pool_size=(2, 2))(drop4)\n",
        "\n",
        "    conv5 = Conv2D(1024, 3, activation = 'relu', padding = 'same', kernel_initializer = 'he_normal')(pool4)\n",
        "    # conv5 = BatchNormalization()(conv5)\n",
        "    conv5 = Conv2D(1024, 3, activation = 'relu', padding = 'same', kernel_initializer = 'he_normal')(conv5)\n",
        "    # conv5 = BatchNormalization()(conv5)\n",
        "    drop5 = Dropout(0.5)(conv5) \n",
        "\n",
        "    up6 = Conv2D(512, 2, activation = 'relu', padding = 'same', kernel_initializer = 'he_normal')(UpSampling2D(size = (2,2))(drop5))\n",
        "    merge6 = concatenate([drop4,up6], axis = 3)\n",
        "    conv6 = Conv2D(512, 3, activation = 'relu', padding = 'same', kernel_initializer = 'he_normal')(merge6)\n",
        "    conv6 = Conv2D(512, 3, activation = 'relu', padding = 'same', kernel_initializer = 'he_normal')(conv6)\n",
        "\n",
        "    up7 = Conv2D(256, 2, activation = 'relu', padding = 'same', kernel_initializer = 'he_normal')(UpSampling2D(size = (2,2))(conv6))\n",
        "    merge7 = concatenate([conv3,up7], axis = 3)\n",
        "    conv7 = Conv2D(256, 3, activation = 'relu', padding = 'same', kernel_initializer = 'he_normal')(merge7)\n",
        "    conv7 = Conv2D(256, 3, activation = 'relu', padding = 'same', kernel_initializer = 'he_normal')(conv7)    \n",
        "\n",
        "    up8 = Conv2D(128, 2, activation = 'relu', padding = 'same', kernel_initializer = 'he_normal')(UpSampling2D(size = (2,2))(conv7))\n",
        "    merge8 = concatenate([conv2,up8], axis = 3)\n",
        "    conv8 = Conv2D(128, 3, activation = 'relu', padding = 'same', kernel_initializer = 'he_normal')(merge8)\n",
        "    conv8 = Conv2D(128, 3, activation = 'relu', padding = 'same', kernel_initializer = 'he_normal')(conv8) \n",
        "\n",
        "    up9 = Conv2D(64, 2, activation = 'relu', padding = 'same', kernel_initializer = 'he_normal')(UpSampling2D(size = (2,2))(conv8))\n",
        "    merge9 = concatenate([conv1,up9], axis = 3)\n",
        "    conv9 = Conv2D(64, 3, activation = 'relu', padding = 'same', kernel_initializer = 'he_normal')(merge9)\n",
        "    conv9 = Conv2D(64, 3, activation = 'relu', padding = 'same', kernel_initializer = 'he_normal')(conv9)\n",
        "    conv9 = Conv2D(2, 3, activation = 'relu', padding = 'same', kernel_initializer = 'he_normal')(conv9)\n",
        "\n",
        "    conv10 = Conv2D(1, 1, activation = 'sigmoid')(conv9)\n",
        "    model = Model(inputs = inputs, outputs = conv10)\n",
        "    return model"
      ],
      "execution_count": null,
      "outputs": []
    },
    {
      "cell_type": "code",
      "metadata": {
        "id": "gdL92MwCxtC4"
      },
      "source": [
        "model_unet = unet()"
      ],
      "execution_count": null,
      "outputs": []
    },
    {
      "cell_type": "code",
      "metadata": {
        "id": "RwPIASUsyAkB"
      },
      "source": [
        "model_unet.summary()"
      ],
      "execution_count": null,
      "outputs": []
    },
    {
      "cell_type": "code",
      "metadata": {
        "id": "PT5XhTkQyIF2"
      },
      "source": [
        "model_unet.compile(optimizer= tf.keras.optimizers.Adam(learning_rate=0.0001),\n",
        "                loss='mean_squared_error',\n",
        "                metrics=['accuracy'])"
      ],
      "execution_count": null,
      "outputs": []
    },
    {
      "cell_type": "code",
      "metadata": {
        "id": "ZjCuqyiKzaKx"
      },
      "source": [
        "print(cancer_mask[0:10].shape)\n",
        "print(tumor[0:10].shape)"
      ],
      "execution_count": null,
      "outputs": []
    },
    {
      "cell_type": "code",
      "metadata": {
        "id": "6IxEUPNz23uf"
      },
      "source": [
        "tumor = np.array(tumor)"
      ],
      "execution_count": null,
      "outputs": []
    },
    {
      "cell_type": "code",
      "metadata": {
        "id": "9NGbFN8Mz31A"
      },
      "source": [
        "test = np.array(cancer_mask[0:10])\n",
        "test.shape\n"
      ],
      "execution_count": null,
      "outputs": []
    },
    {
      "cell_type": "code",
      "metadata": {
        "id": "SJkgP7LryMhe"
      },
      "source": [
        "fea_history = model_unet.fit(tumor, test, batch_size=1, epochs= 10)"
      ],
      "execution_count": null,
      "outputs": []
    },
    {
      "cell_type": "code",
      "metadata": {
        "id": "tXH3YmF3zqBo"
      },
      "source": [
        "layer_outputs_unet = [layer.output for layer in model_unet.layers]\n",
        "activation_unet = Model(inputs=model_unet.input, outputs=layer_outputs_unet)"
      ],
      "execution_count": null,
      "outputs": []
    },
    {
      "cell_type": "code",
      "metadata": {
        "id": "tn2DiL6L5GlQ"
      },
      "source": [
        "activation_unet_fea = activation_unet.predict(tumor[1].reshape(1,256,256,3))"
      ],
      "execution_count": null,
      "outputs": []
    },
    {
      "cell_type": "code",
      "metadata": {
        "id": "evACqUR75c3Z"
      },
      "source": [
        "np.array(activation_unet_fea[0]).shape"
      ],
      "execution_count": null,
      "outputs": []
    },
    {
      "cell_type": "code",
      "metadata": {
        "id": "PqGCN5CX5RM5"
      },
      "source": [
        "plt.imshow(activation_unet_fea[0][0, :, :, 1])"
      ],
      "execution_count": null,
      "outputs": []
    },
    {
      "cell_type": "code",
      "metadata": {
        "id": "-yU90-0_5T_c"
      },
      "source": [
        ""
      ],
      "execution_count": null,
      "outputs": []
    }
  ]
}