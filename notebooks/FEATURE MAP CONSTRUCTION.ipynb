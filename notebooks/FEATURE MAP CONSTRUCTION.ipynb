{
 "cells": [
  {
   "cell_type": "code",
   "execution_count": 37,
   "metadata": {},
   "outputs": [],
   "source": [
    "# TensorFlow and tf.keras\n",
    "import tensorflow as tf\n",
    "from tensorflow import keras\n",
    "import os\n",
    "# Helper libraries\n",
    "import numpy as np\n",
    "import matplotlib.pyplot as plt\n",
    "import random\n",
    "import h5py\n",
    "import math\n",
    "import pickle\n",
    "from datetime import datetime\n",
    "from numba import cuda \n",
    "from tensorflow.keras import Model\n",
    "%matplotlib inline"
   ]
  },
  {
   "cell_type": "code",
   "execution_count": 2,
   "metadata": {},
   "outputs": [],
   "source": [
    "import sys  \n",
    "sys.path.insert(0, '..')"
   ]
  },
  {
   "cell_type": "code",
   "execution_count": 3,
   "metadata": {},
   "outputs": [],
   "source": [
    "from tiling.read_tiles import TissueDataset, load_color_normalization_values\n",
    "from tiling.preprocessing.processing import split_whole_slide\n",
    "from tiling.preprocessing.datamodel import SlideManager, Slide"
   ]
  },
  {
   "cell_type": "code",
   "execution_count": 4,
   "metadata": {},
   "outputs": [],
   "source": [
    "# Code snippet nvidia gpu\n",
    "from tensorflow.compat.v1 import ConfigProto\n",
    "from tensorflow.compat.v1 import InteractiveSession\n",
    "\n",
    "config = ConfigProto()\n",
    "config.gpu_options.per_process_gpu_memory_fraction = 0.8\n",
    "config.gpu_options.allow_growth = True\n",
    "session = InteractiveSession(config=config)"
   ]
  },
  {
   "cell_type": "code",
   "execution_count": 5,
   "metadata": {},
   "outputs": [],
   "source": [
    "HDF5_FOLDER = '/media/nico/data/fourthbrain/project/training_CAMELYON16'\n",
    "green_layer_only = False\n",
    "color_normalization_file=\"/home/nico/Documents/FourthBrainBreastCancer/tiling/CAMELYON16_color_normalization.json\""
   ]
  },
  {
   "cell_type": "code",
   "execution_count": 6,
   "metadata": {},
   "outputs": [],
   "source": [
    "# FEATURE MAP CONSTRUCTION"
   ]
  },
  {
   "cell_type": "code",
   "execution_count": 7,
   "metadata": {},
   "outputs": [],
   "source": [
    "# FIRST GET TILES"
   ]
  },
  {
   "cell_type": "code",
   "execution_count": 8,
   "metadata": {},
   "outputs": [],
   "source": [
    "CAM_BASE_DIR = '/media/nico/data/fourthbrain/project/'\n",
    "CAM16_DIR = CAM_BASE_DIR + 'CAMELYON16/'\n",
    "color_normalization_file=\"/home/nico/Documents/FourthBrainBreastCancer/tiling/CAMELYON16_color_normalization.json\""
   ]
  },
  {
   "cell_type": "code",
   "execution_count": 9,
   "metadata": {},
   "outputs": [],
   "source": [
    "mgr = SlideManager(cam16_dir=CAM16_DIR)"
   ]
  },
  {
   "cell_type": "code",
   "execution_count": 10,
   "metadata": {},
   "outputs": [],
   "source": [
    "i = 0\n",
    "level = 3\n",
    "tile_size=256\n",
    "verbose = True"
   ]
  },
  {
   "cell_type": "code",
   "execution_count": 11,
   "metadata": {},
   "outputs": [],
   "source": [
    "model = keras.models.load_model('/media/nico/data/fourthbrain/project/model_testing/model_inceptionv3.hdf5')"
   ]
  },
  {
   "cell_type": "code",
   "execution_count": 12,
   "metadata": {},
   "outputs": [],
   "source": [
    "# ALL TILES HAVE DIFFERENT DIMENSIONS - WE NEED TO FEED A FEATURE MATRIX OF THE SAME SIZE IN THE UNET\n",
    "# SO WE ARE GOING TO LOOK FIND THE WIDEST AND HIGHEST SLIDES IN OUR DATASETS FIRST\n",
    "# FROM THE PAPER : \"however the sizes of WSIs differ. Therefore we first prepare a white map of sufficient size filled with zeroes\""
   ]
  },
  {
   "cell_type": "code",
   "execution_count": 13,
   "metadata": {},
   "outputs": [],
   "source": [
    "def features_2dim(mgr):\n",
    "    w, h = 0, 0\n",
    "    for sl in mgr.test_slides:\n",
    "        (wt, ht) = sl.level_dimensions[level]\n",
    "        w = wt if wt> w else w\n",
    "        h = ht if ht> w else h\n",
    "\n",
    "    for sl in mgr.annotated_slides:\n",
    "        (wt, ht) = sl.level_dimensions[level]\n",
    "        w = wt if wt> w else w\n",
    "        h = ht if ht> w else h\n",
    "\n",
    "    for sl in mgr.negative_slides:\n",
    "        (wt, ht) = sl.level_dimensions[level]\n",
    "        w = wt if wt> w else w\n",
    "        h = ht if ht> w else h\n",
    "\n",
    "    wf = int(w / tile_size)\n",
    "    wf += 1 if w % tile_size != 0 else 0\n",
    "    \n",
    "    hf = int(h / tile_size)\n",
    "    hf += 1 if h % tile_size != 0 else 0\n",
    "    \n",
    "    return (w, h),(wf, hf)"
   ]
  },
  {
   "cell_type": "code",
   "execution_count": 14,
   "metadata": {},
   "outputs": [],
   "source": [
    "level_3_max_size, level_3_features_eq = features_2dim(mgr)"
   ]
  },
  {
   "cell_type": "code",
   "execution_count": 15,
   "metadata": {},
   "outputs": [
    {
     "data": {
      "text/plain": [
       "((27648, 27712), (108, 109))"
      ]
     },
     "execution_count": 15,
     "metadata": {},
     "output_type": "execute_result"
    }
   ],
   "source": [
    "level_3_max_size, level_3_features_eq"
   ]
  },
  {
   "cell_type": "code",
   "execution_count": 16,
   "metadata": {},
   "outputs": [],
   "source": [
    "dim_map = max(level_3_features_eq)"
   ]
  },
  {
   "cell_type": "code",
   "execution_count": 17,
   "metadata": {},
   "outputs": [],
   "source": [
    "#### ALRIGHT THE FEATURES MAP WILL BE max(wf, hf) so for a 256 tile 109 x 109 "
   ]
  },
  {
   "cell_type": "code",
   "execution_count": 55,
   "metadata": {},
   "outputs": [],
   "source": [
    "# Model layer\n",
    "layer_output = model.layers[-2].output\n",
    "feature_model = Model(inputs=model.input, outputs=layer_output)"
   ]
  },
  {
   "cell_type": "code",
   "execution_count": 31,
   "metadata": {},
   "outputs": [],
   "source": [
    "slide = mgr.test_slides[i]"
   ]
  },
  {
   "cell_type": "code",
   "execution_count": 63,
   "metadata": {},
   "outputs": [
    {
     "data": {
      "text/plain": [
       "(10752, 11200)"
      ]
     },
     "execution_count": 63,
     "metadata": {},
     "output_type": "execute_result"
    }
   ],
   "source": [
    "slide.level_dimensions[3]"
   ]
  },
  {
   "cell_type": "code",
   "execution_count": 56,
   "metadata": {},
   "outputs": [],
   "source": [
    "iter_whole_slide = split_whole_slide(slide, level=level, tile_size=tile_size, color_normalization_file=color_normalization_file, verbose=False) "
   ]
  },
  {
   "cell_type": "code",
   "execution_count": 57,
   "metadata": {},
   "outputs": [],
   "source": [
    "tiles, labels, coords, slide_locations = list(), list(), list(), list()\n",
    "feature_map = list()\n",
    "\n",
    "y_preds, layer_outputs = list(), list()\n",
    "for tile, label, coord, slide_location in iter_whole_slide:\n",
    "    tiles.append(tile)\n",
    "    labels.append(label)\n",
    "    coords.append(coord)\n",
    "    slide_locations.append(slide_location)\n",
    "    feature_map.append(feature_model.predict(tiles[0].reshape(1,256,256,3)))"
   ]
  },
  {
   "cell_type": "code",
   "execution_count": 73,
   "metadata": {},
   "outputs": [
    {
     "data": {
      "text/plain": [
       "2048"
      ]
     },
     "execution_count": 73,
     "metadata": {},
     "output_type": "execute_result"
    }
   ],
   "source": [
    "feature_map[0].shape[1]"
   ]
  },
  {
   "cell_type": "code",
   "execution_count": 74,
   "metadata": {},
   "outputs": [],
   "source": [
    "d = np.zeros((dim_map, dim_map, feature_map[0].shape[1]))"
   ]
  },
  {
   "cell_type": "code",
   "execution_count": 77,
   "metadata": {},
   "outputs": [],
   "source": [
    "for i in range(0, len(coords)):\n",
    "    d[coords[i][0], coords[i][1],:] = feature_map[i]"
   ]
  },
  {
   "cell_type": "code",
   "execution_count": null,
   "metadata": {},
   "outputs": [],
   "source": []
  }
 ],
 "metadata": {
  "kernelspec": {
   "display_name": "Python 3",
   "language": "python",
   "name": "python3"
  },
  "language_info": {
   "codemirror_mode": {
    "name": "ipython",
    "version": 3
   },
   "file_extension": ".py",
   "mimetype": "text/x-python",
   "name": "python",
   "nbconvert_exporter": "python",
   "pygments_lexer": "ipython3",
   "version": "3.7.9"
  }
 },
 "nbformat": 4,
 "nbformat_minor": 4
}
