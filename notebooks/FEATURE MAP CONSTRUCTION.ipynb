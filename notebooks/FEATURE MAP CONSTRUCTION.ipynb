{
 "cells": [
  {
   "cell_type": "code",
   "execution_count": 1,
   "metadata": {},
   "outputs": [],
   "source": [
    "# TensorFlow and tf.keras\n",
    "import tensorflow as tf\n",
    "from tensorflow import keras\n",
    "import os\n",
    "# Helper libraries\n",
    "import numpy as np\n",
    "import matplotlib.pyplot as plt\n",
    "import random\n",
    "import h5py\n",
    "import math\n",
    "import pickle\n",
    "from datetime import datetime\n",
    "from numba import cuda \n",
    "from tensorflow.keras import Model\n",
    "%matplotlib inline"
   ]
  },
  {
   "cell_type": "code",
   "execution_count": 2,
   "metadata": {},
   "outputs": [],
   "source": [
    "import sys  \n",
    "sys.path.insert(0, '..')"
   ]
  },
  {
   "cell_type": "code",
   "execution_count": 3,
   "metadata": {},
   "outputs": [],
   "source": [
    "from tiling.read_tiles import TissueDataset, load_color_normalization_values\n",
    "from tiling.preprocessing.processing import split_whole_slide\n",
    "from tiling.preprocessing.datamodel import SlideManager, Slide"
   ]
  },
  {
   "cell_type": "code",
   "execution_count": 4,
   "metadata": {},
   "outputs": [],
   "source": [
    "# Code snippet nvidia gpu\n",
    "from tensorflow.compat.v1 import ConfigProto\n",
    "from tensorflow.compat.v1 import InteractiveSession\n",
    "\n",
    "config = ConfigProto()\n",
    "config.gpu_options.per_process_gpu_memory_fraction = 0.8\n",
    "config.gpu_options.allow_growth = True\n",
    "session = InteractiveSession(config=config)"
   ]
  },
  {
   "cell_type": "code",
   "execution_count": 5,
   "metadata": {},
   "outputs": [],
   "source": [
    "HDF5_FOLDER = '/media/nico/data/fourthbrain/project/training_CAMELYON16'\n",
    "green_layer_only = False\n",
    "color_normalization_file=\"/home/nico/Documents/FourthBrainBreastCancer/tiling/CAMELYON16_color_normalization.json\""
   ]
  },
  {
   "cell_type": "code",
   "execution_count": 6,
   "metadata": {},
   "outputs": [],
   "source": [
    "# FEATURE MAP CONSTRUCTION"
   ]
  },
  {
   "cell_type": "code",
   "execution_count": 7,
   "metadata": {},
   "outputs": [],
   "source": [
    "# FIRST GET TILES"
   ]
  },
  {
   "cell_type": "code",
   "execution_count": 8,
   "metadata": {},
   "outputs": [],
   "source": [
    "CAM_BASE_DIR = '/media/nico/data/fourthbrain/project/'\n",
    "CAM16_DIR = CAM_BASE_DIR + 'CAMELYON16/'\n",
    "color_normalization_file=\"/home/nico/Documents/FourthBrainBreastCancer/tiling/CAMELYON16_color_normalization.json\""
   ]
  },
  {
   "cell_type": "code",
   "execution_count": 9,
   "metadata": {},
   "outputs": [],
   "source": [
    "mgr = SlideManager(cam16_dir=CAM16_DIR)"
   ]
  },
  {
   "cell_type": "code",
   "execution_count": 10,
   "metadata": {},
   "outputs": [],
   "source": [
    "i = 0\n",
    "level = 3\n",
    "tile_size=256\n",
    "verbose = True"
   ]
  },
  {
   "cell_type": "code",
   "execution_count": 11,
   "metadata": {},
   "outputs": [],
   "source": [
    "model = keras.models.load_model('/media/nico/data/fourthbrain/project/model_testing/model_inceptionv3.hdf5')"
   ]
  },
  {
   "cell_type": "code",
   "execution_count": 12,
   "metadata": {},
   "outputs": [],
   "source": [
    "# ALL TILES HAVE DIFFERENT DIMENSIONS - WE NEED TO FEED A FEATURE MATRIX OF THE SAME SIZE IN THE UNET\n",
    "# SO WE ARE GOING TO LOOK FIND THE WIDEST AND HIGHEST SLIDES IN OUR DATASETS FIRST\n",
    "# FROM THE PAPER : \"however the sizes of WSIs differ. Therefore we first prepare a white map of sufficient size filled with zeroes\""
   ]
  },
  {
   "cell_type": "code",
   "execution_count": 13,
   "metadata": {},
   "outputs": [],
   "source": [
    "def features_2dim(mgr):\n",
    "    w, h = 0, 0\n",
    "    for sl in mgr.test_slides:\n",
    "        (wt, ht) = sl.level_dimensions[level]\n",
    "        w = wt if wt> w else w\n",
    "        h = ht if ht> w else h\n",
    "\n",
    "    for sl in mgr.annotated_slides:\n",
    "        (wt, ht) = sl.level_dimensions[level]\n",
    "        w = wt if wt> w else w\n",
    "        h = ht if ht> w else h\n",
    "\n",
    "    for sl in mgr.negative_slides:\n",
    "        (wt, ht) = sl.level_dimensions[level]\n",
    "        w = wt if wt> w else w\n",
    "        h = ht if ht> w else h\n",
    "\n",
    "    wf = int(w / tile_size)\n",
    "    wf += 1 if w % tile_size != 0 else 0\n",
    "    \n",
    "    hf = int(h / tile_size)\n",
    "    hf += 1 if h % tile_size != 0 else 0\n",
    "    \n",
    "    return (w, h),(wf, hf)"
   ]
  },
  {
   "cell_type": "code",
   "execution_count": 14,
   "metadata": {},
   "outputs": [],
   "source": [
    "level_3_max_size, level_3_features_eq = features_2dim(mgr)"
   ]
  },
  {
   "cell_type": "code",
   "execution_count": 15,
   "metadata": {},
   "outputs": [
    {
     "data": {
      "text/plain": [
       "((27648, 27712), (108, 109))"
      ]
     },
     "execution_count": 15,
     "metadata": {},
     "output_type": "execute_result"
    }
   ],
   "source": [
    "level_3_max_size, level_3_features_eq"
   ]
  },
  {
   "cell_type": "code",
   "execution_count": 16,
   "metadata": {},
   "outputs": [],
   "source": [
    "dim_map = 128 #max(level_3_features_eq)"
   ]
  },
  {
   "cell_type": "code",
   "execution_count": 17,
   "metadata": {},
   "outputs": [],
   "source": [
    "#### ALRIGHT THE FEATURES MAP WILL BE max(wf, hf) so for a 256 tile 109 x 109 \n",
    "### LET'S USE A MULTIPLE OF 128 FOR NOW SO THAT IT FITS OUR UNET"
   ]
  },
  {
   "cell_type": "code",
   "execution_count": 18,
   "metadata": {},
   "outputs": [],
   "source": [
    "# Model layer\n",
    "# take the avg pooling before dense layer\n",
    "layer_output = model.layers[-2].output\n",
    "feature_model = Model(inputs=model.input, outputs=layer_output)"
   ]
  },
  {
   "cell_type": "code",
   "execution_count": 19,
   "metadata": {},
   "outputs": [
    {
     "data": {
      "text/plain": [
       "2048"
      ]
     },
     "execution_count": 19,
     "metadata": {},
     "output_type": "execute_result"
    }
   ],
   "source": [
    "layer_output.shape[1]"
   ]
  },
  {
   "cell_type": "code",
   "execution_count": 20,
   "metadata": {},
   "outputs": [],
   "source": [
    "PATH_FEATURES = '/media/nico/data/fourthbrain/project/training_CAMELYON16_features/'\n",
    "\n",
    "slide = mgr.annotated_slides[i]"
   ]
  },
  {
   "cell_type": "code",
   "execution_count": 26,
   "metadata": {},
   "outputs": [],
   "source": [
    "# pack it all together\n",
    "dim_map = 128"
   ]
  },
  {
   "cell_type": "code",
   "execution_count": null,
   "metadata": {},
   "outputs": [
    {
     "name": "stdout",
     "output_type": "stream",
     "text": [
      "start with tumor_001 - 2021-01-26 22:07:48.913575\n",
      "done with tumor_001 - 2021-01-26 22:10:41.007056\n",
      "start with tumor_002 - 2021-01-26 22:10:41.007149\n",
      "done with tumor_002 - 2021-01-26 22:13:27.102109\n",
      "start with tumor_003 - 2021-01-26 22:13:27.102187\n",
      "done with tumor_003 - 2021-01-26 22:16:24.814629\n",
      "start with tumor_004 - 2021-01-26 22:16:24.814699\n",
      "done with tumor_004 - 2021-01-26 22:19:33.802316\n",
      "start with tumor_005 - 2021-01-26 22:19:33.802393\n",
      "done with tumor_005 - 2021-01-26 22:22:24.010848\n",
      "start with tumor_006 - 2021-01-26 22:22:24.011073\n",
      "done with tumor_006 - 2021-01-26 22:25:11.475396\n",
      "start with tumor_007 - 2021-01-26 22:25:11.475465\n",
      "done with tumor_007 - 2021-01-26 22:28:03.565789\n",
      "start with tumor_008 - 2021-01-26 22:28:03.565860\n",
      "done with tumor_008 - 2021-01-26 22:30:50.444124\n",
      "start with tumor_009 - 2021-01-26 22:30:50.444191\n",
      "done with tumor_009 - 2021-01-26 22:35:04.302271\n",
      "start with tumor_010 - 2021-01-26 22:35:04.302341\n",
      "done with tumor_010 - 2021-01-26 22:37:50.083701\n",
      "start with tumor_011 - 2021-01-26 22:37:50.083770\n",
      "done with tumor_011 - 2021-01-26 22:42:13.461755\n",
      "start with tumor_012 - 2021-01-26 22:42:13.461824\n",
      "done with tumor_012 - 2021-01-26 22:44:57.250921\n",
      "start with tumor_013 - 2021-01-26 22:44:57.250993\n",
      "done with tumor_013 - 2021-01-26 22:47:43.421804\n",
      "start with tumor_014 - 2021-01-26 22:47:43.421888\n",
      "done with tumor_014 - 2021-01-26 22:51:13.023850\n",
      "start with tumor_015 - 2021-01-26 22:51:13.023920\n",
      "done with tumor_015 - 2021-01-26 22:54:18.968517\n",
      "start with tumor_016 - 2021-01-26 22:54:18.968601\n",
      "done with tumor_016 - 2021-01-26 22:58:07.677488\n",
      "start with tumor_017 - 2021-01-26 22:58:07.677558\n",
      "done with tumor_017 - 2021-01-26 23:00:56.056560\n",
      "start with tumor_018 - 2021-01-26 23:00:56.056634\n",
      "done with tumor_018 - 2021-01-26 23:04:33.173712\n",
      "start with tumor_019 - 2021-01-26 23:04:33.173785\n",
      "done with tumor_019 - 2021-01-26 23:07:24.704723\n",
      "start with tumor_020 - 2021-01-26 23:07:24.704800\n",
      "done with tumor_020 - 2021-01-26 23:10:53.674058\n",
      "start with tumor_021 - 2021-01-26 23:10:53.674129\n",
      "done with tumor_021 - 2021-01-26 23:15:16.269102\n",
      "start with tumor_022 - 2021-01-26 23:15:16.269179\n",
      "done with tumor_022 - 2021-01-26 23:18:06.237689\n",
      "start with tumor_023 - 2021-01-26 23:18:06.237759\n",
      "done with tumor_023 - 2021-01-26 23:21:03.579564\n",
      "start with tumor_024 - 2021-01-26 23:21:03.579638\n",
      "done with tumor_024 - 2021-01-26 23:23:53.987298\n",
      "start with tumor_025 - 2021-01-26 23:23:53.987368\n"
     ]
    }
   ],
   "source": [
    "for slide in mgr.annotated_slides:\n",
    "    print('start with {} - {}'.format(slide.name, datetime.now()))\n",
    "    iter_whole_slide = split_whole_slide(slide, level=level, tile_size=tile_size, color_normalization_file=color_normalization_file, verbose=False)\n",
    "    tiles, labels, coords, slide_locations, features_map = list(), list(), list(), list(), list()\n",
    "    np_features_map = np.zeros((dim_map, dim_map, layer_output.shape[1]))\n",
    "    np_labels_map = np.zeros((dim_map, dim_map, 1))\n",
    "    y_preds, layer_outputs = list(), list()\n",
    "\n",
    "    for tile, label, coord, slide_location in iter_whole_slide:\n",
    "#         tiles.append(tile)\n",
    "#         labels.append(label)\n",
    "#         coords.append(coord)\n",
    "#         slide_locations.append(slide_location)\n",
    "        feature_map = feature_model.predict(tile.reshape(1,256,256,3))\n",
    "        features_map.append(feature_map)\n",
    "        np_features_map[coord[0], coord[1],:] = feature_map\n",
    "        np_labels_map[coord[0], coord[1],:] = label\n",
    "    dct = {\n",
    "    #     'tiles': tiles,\n",
    "    #     'labels': labels,\n",
    "    #     'coords': coords,\n",
    "    #     'slide_locations': slide_locations,\n",
    "    #     'features_map': features_map,\n",
    "        'np_features_map': np_features_map,\n",
    "        'np_labels_map': np_labels_map\n",
    "    }\n",
    "    with open(os.path.join(PATH_FEATURES, \"{}.pkl\".format(slide.name)), 'wb') as handle:\n",
    "        pickle.dump(dct, handle, protocol=pickle.HIGHEST_PROTOCOL)\n",
    "    print('done with {} - {}'.format(slide.name, datetime.now()))"
   ]
  },
  {
   "cell_type": "code",
   "execution_count": null,
   "metadata": {},
   "outputs": [],
   "source": []
  }
 ],
 "metadata": {
  "kernelspec": {
   "display_name": "Python 3",
   "language": "python",
   "name": "python3"
  },
  "language_info": {
   "codemirror_mode": {
    "name": "ipython",
    "version": 3
   },
   "file_extension": ".py",
   "mimetype": "text/x-python",
   "name": "python",
   "nbconvert_exporter": "python",
   "pygments_lexer": "ipython3",
   "version": "3.7.9"
  }
 },
 "nbformat": 4,
 "nbformat_minor": 4
}
