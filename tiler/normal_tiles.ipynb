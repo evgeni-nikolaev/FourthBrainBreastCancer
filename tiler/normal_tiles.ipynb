{
 "cells": [
  {
   "cell_type": "code",
   "execution_count": 5,
   "metadata": {},
   "outputs": [],
   "source": [
    "from histolab.slide import SlideSet, Slide\n",
    "\n",
    "import logging\n",
    "import os\n",
    "\n",
    "import xml.etree.ElementTree as Xml\n",
    "from collections import OrderedDict, defaultdict, namedtuple\n",
    "from typing import Sequence, Any, Tuple\n",
    "\n",
    "import openslide\n",
    "from PIL import Image\n",
    "\n",
    "from histolab.types import CoordinatePair, Region"
   ]
  },
  {
   "cell_type": "code",
   "execution_count": 6,
   "metadata": {},
   "outputs": [],
   "source": [
    "BASE_FOLDER = '/media/nico/data/fourthbrain/project/CAMELYON16/training/'"
   ]
  },
  {
   "cell_type": "code",
   "execution_count": 7,
   "metadata": {},
   "outputs": [],
   "source": [
    "NORMAL_FOLDER = os.path.join(BASE_FOLDER, \"normal\")"
   ]
  },
  {
   "cell_type": "code",
   "execution_count": 8,
   "metadata": {},
   "outputs": [],
   "source": [
    "PROCESSED_FOLDER = '/media/nico/data/fourthbrain/project/CAMELYON16/output/normal/'"
   ]
  },
  {
   "cell_type": "code",
   "execution_count": 14,
   "metadata": {},
   "outputs": [],
   "source": [
    "sset = SlideSet(NORMAL_FOLDER, PROCESSED_FOLDER, '.tif')"
   ]
  },
  {
   "cell_type": "code",
   "execution_count": 15,
   "metadata": {},
   "outputs": [
    {
     "data": {
      "text/plain": [
       "156"
      ]
     },
     "execution_count": 15,
     "metadata": {},
     "output_type": "execute_result"
    }
   ],
   "source": [
    "sset.total_slides"
   ]
  },
  {
   "cell_type": "code",
   "execution_count": 16,
   "metadata": {},
   "outputs": [
    {
     "data": {
      "text/plain": [
       "{'no_of_slides': 156,\n",
       " 'max_width': {'slide': 'normal_149', 'width': 217088},\n",
       " 'max_height': {'slide': 'normal_019', 'height': 221696},\n",
       " 'max_size': {'slide': 'normal_149', 'size': 24119345152},\n",
       " 'min_width': {'slide': 'normal_108', 'width': 45056},\n",
       " 'min_height': {'slide': 'normal_108', 'height': 35840},\n",
       " 'min_size': {'slide': 'normal_108', 'size': 1614807040},\n",
       " 'avg_width': 110994.0,\n",
       " 'avg_height': 172367.71153846153,\n",
       " 'avg_size': 18091147822.615383}"
      ]
     },
     "execution_count": 16,
     "metadata": {},
     "output_type": "execute_result"
    }
   ],
   "source": [
    "sset.slides_stats"
   ]
  },
  {
   "cell_type": "code",
   "execution_count": 19,
   "metadata": {},
   "outputs": [],
   "source": [
    "from os import listdir\n",
    "from os.path import isfile, join"
   ]
  },
  {
   "cell_type": "code",
   "execution_count": 37,
   "metadata": {},
   "outputs": [],
   "source": [
    "def read_region_for_level(image, level):\n",
    "    dims = image.level_dimensions\n",
    "    if level < len(dims):\n",
    "        # Read a specific region of the image starting at upper left coordinate (x=17800, y=19500) on level 0 and extracting a 256*256 pixel patch.\n",
    "        # At this point image data is read from the file and loaded into memory.        \n",
    "        return image.read_region(dims[level], level, dims[level])\n",
    "    else:\n",
    "        return None"
   ]
  },
  {
   "cell_type": "code",
   "execution_count": 38,
   "metadata": {},
   "outputs": [],
   "source": [
    "slides_names = [f for f in listdir(sset._slides_path) if isfile(join(sset._slides_path, f))]\n",
    "slides_paths = [os.path.join(sset._slides_path, f) for f in slides_names]\n",
    "slides_output_paths = [os.path.join(sset._processed_path, f) for f in slides_names]"
   ]
  },
  {
   "cell_type": "code",
   "execution_count": 39,
   "metadata": {},
   "outputs": [],
   "source": [
    "s = Slide(slides_paths[0], slides_output_paths[0])"
   ]
  },
  {
   "cell_type": "code",
   "execution_count": 40,
   "metadata": {},
   "outputs": [
    {
     "data": {
      "text/plain": [
       "Slide(path=/media/nico/data/fourthbrain/project/CAMELYON16/training/normal/normal_001.tif, processed_path=/media/nico/data/fourthbrain/project/CAMELYON16/output/normal/normal_001.tif)"
      ]
     },
     "execution_count": 40,
     "metadata": {},
     "output_type": "execute_result"
    }
   ],
   "source": [
    "s"
   ]
  },
  {
   "cell_type": "code",
   "execution_count": 44,
   "metadata": {},
   "outputs": [],
   "source": [
    "#specific imports\n",
    "import openslide"
   ]
  },
  {
   "cell_type": "code",
   "execution_count": 47,
   "metadata": {},
   "outputs": [],
   "source": [
    "image = openslide.OpenSlide('/media/nico/data/fourthbrain/project/CAMELYON16/training/normal/normal_001.tif')\n",
    "level = 1"
   ]
  },
  {
   "cell_type": "code",
   "execution_count": 48,
   "metadata": {},
   "outputs": [],
   "source": [
    "pic = read_region_for_level(image, level)"
   ]
  },
  {
   "cell_type": "code",
   "execution_count": 53,
   "metadata": {},
   "outputs": [],
   "source": [
    "from histolab.filters.image_filters import AdaptiveEqualization, Grays, RgbToGrayscale, OtsuThreshold\n",
    "from histolab.filters.morphological_filters import RemoveSmallHoles, RemoveSmallObjects"
   ]
  },
  {
   "cell_type": "code",
   "execution_count": 54,
   "metadata": {},
   "outputs": [],
   "source": [
    "pic_eq = AdaptiveEqualization(pic)"
   ]
  },
  {
   "cell_type": "code",
   "execution_count": 55,
   "metadata": {},
   "outputs": [],
   "source": [
    "pic_g = Grays(pic_eq)"
   ]
  },
  {
   "cell_type": "code",
   "execution_count": 59,
   "metadata": {},
   "outputs": [
    {
     "data": {
      "text/plain": [
       "histolab.filters.image_filters.Grays"
      ]
     },
     "execution_count": 59,
     "metadata": {},
     "output_type": "execute_result"
    }
   ],
   "source": [
    "type(pic_g)"
   ]
  },
  {
   "cell_type": "code",
   "execution_count": 58,
   "metadata": {},
   "outputs": [
    {
     "ename": "AttributeError",
     "evalue": "'Grays' object has no attribute 'RgbToGrayscale'",
     "output_type": "error",
     "traceback": [
      "\u001b[0;31m---------------------------------------------------------------------------\u001b[0m",
      "\u001b[0;31mAttributeError\u001b[0m                            Traceback (most recent call last)",
      "\u001b[0;32m<ipython-input-58-0b0b137f68d8>\u001b[0m in \u001b[0;36m<module>\u001b[0;34m\u001b[0m\n\u001b[0;32m----> 1\u001b[0;31m \u001b[0mpic_grayscale\u001b[0m \u001b[0;34m=\u001b[0m \u001b[0mpic_g\u001b[0m\u001b[0;34m.\u001b[0m\u001b[0mRgbToGrayscale\u001b[0m\u001b[0;34m(\u001b[0m\u001b[0;34m)\u001b[0m\u001b[0;34m\u001b[0m\u001b[0;34m\u001b[0m\u001b[0m\n\u001b[0m",
      "\u001b[0;31mAttributeError\u001b[0m: 'Grays' object has no attribute 'RgbToGrayscale'"
     ]
    }
   ],
   "source": [
    "pic_grayscale = pic_g.RgbToGrayscale()"
   ]
  },
  {
   "cell_type": "code",
   "execution_count": 57,
   "metadata": {},
   "outputs": [
    {
     "ename": "NameError",
     "evalue": "name 'pic_grayscale' is not defined",
     "output_type": "error",
     "traceback": [
      "\u001b[0;31m---------------------------------------------------------------------------\u001b[0m",
      "\u001b[0;31mNameError\u001b[0m                                 Traceback (most recent call last)",
      "\u001b[0;32m<ipython-input-57-7985279d9ae5>\u001b[0m in \u001b[0;36m<module>\u001b[0;34m\u001b[0m\n\u001b[0;32m----> 1\u001b[0;31m \u001b[0mmask\u001b[0m \u001b[0;34m=\u001b[0m \u001b[0mOtsuThreshold\u001b[0m\u001b[0;34m(\u001b[0m\u001b[0mpic_grayscale\u001b[0m\u001b[0;34m)\u001b[0m\u001b[0;34m\u001b[0m\u001b[0;34m\u001b[0m\u001b[0m\n\u001b[0m",
      "\u001b[0;31mNameError\u001b[0m: name 'pic_grayscale' is not defined"
     ]
    }
   ],
   "source": [
    "mask = OtsuThreshold(pic_grayscale)"
   ]
  },
  {
   "cell_type": "code",
   "execution_count": null,
   "metadata": {},
   "outputs": [],
   "source": []
  }
 ],
 "metadata": {
  "kernelspec": {
   "display_name": "Python 3",
   "language": "python",
   "name": "python3"
  },
  "language_info": {
   "codemirror_mode": {
    "name": "ipython",
    "version": 3
   },
   "file_extension": ".py",
   "mimetype": "text/x-python",
   "name": "python",
   "nbconvert_exporter": "python",
   "pygments_lexer": "ipython3",
   "version": "3.7.9"
  }
 },
 "nbformat": 4,
 "nbformat_minor": 4
}
