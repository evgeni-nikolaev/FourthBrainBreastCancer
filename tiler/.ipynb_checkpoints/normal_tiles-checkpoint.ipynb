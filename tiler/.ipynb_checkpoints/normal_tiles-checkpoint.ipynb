{
 "cells": [
  {
   "cell_type": "code",
   "execution_count": 5,
   "metadata": {},
   "outputs": [],
   "source": [
    "from histolab.slide import SlideSet, Slide\n",
    "\n",
    "import logging\n",
    "import os\n",
    "\n",
    "import xml.etree.ElementTree as Xml\n",
    "from collections import OrderedDict, defaultdict, namedtuple\n",
    "from typing import Sequence, Any, Tuple\n",
    "\n",
    "import openslide\n",
    "from PIL import Image\n",
    "\n",
    "from histolab.types import CoordinatePair, Region"
   ]
  },
  {
   "cell_type": "code",
   "execution_count": 6,
   "metadata": {},
   "outputs": [],
   "source": [
    "BASE_FOLDER = '/media/nico/data/fourthbrain/project/CAMELYON16/training/'"
   ]
  },
  {
   "cell_type": "code",
   "execution_count": 7,
   "metadata": {},
   "outputs": [],
   "source": [
    "NORMAL_FOLDER = os.path.join(BASE_FOLDER, \"normal\")"
   ]
  },
  {
   "cell_type": "code",
   "execution_count": 8,
   "metadata": {},
   "outputs": [],
   "source": [
    "PROCESSED_FOLDER = '/media/nico/data/fourthbrain/project/CAMELYON16/output/normal/'"
   ]
  },
  {
   "cell_type": "code",
   "execution_count": 14,
   "metadata": {},
   "outputs": [],
   "source": [
    "sset = SlideSet(NORMAL_FOLDER, PROCESSED_FOLDER, '.tif')"
   ]
  },
  {
   "cell_type": "code",
   "execution_count": 15,
   "metadata": {},
   "outputs": [
    {
     "data": {
      "text/plain": [
       "156"
      ]
     },
     "execution_count": 15,
     "metadata": {},
     "output_type": "execute_result"
    }
   ],
   "source": [
    "sset.total_slides"
   ]
  },
  {
   "cell_type": "code",
   "execution_count": null,
   "metadata": {},
   "outputs": [],
   "source": []
  }
 ],
 "metadata": {
  "kernelspec": {
   "display_name": "Python 3",
   "language": "python",
   "name": "python3"
  },
  "language_info": {
   "codemirror_mode": {
    "name": "ipython",
    "version": 3
   },
   "file_extension": ".py",
   "mimetype": "text/x-python",
   "name": "python",
   "nbconvert_exporter": "python",
   "pygments_lexer": "ipython3",
   "version": "3.7.9"
  }
 },
 "nbformat": 4,
 "nbformat_minor": 4
}
